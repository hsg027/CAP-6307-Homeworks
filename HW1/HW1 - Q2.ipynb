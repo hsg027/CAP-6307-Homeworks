{
 "cells": [
  {
   "cell_type": "code",
   "execution_count": 3,
   "metadata": {},
   "outputs": [
    {
     "name": "stdout",
     "output_type": "stream",
     "text": [
      "Accuracy on training set: 0.995000, on test set: 0.571000\n"
     ]
    }
   ],
   "source": [
    "from sentiment_reader import SentimentCorpus\n",
    "from multinomial_naive_bayes import MultinomialNaiveBayes\n",
    "\n",
    "if __name__ == '__main__':\n",
    "    dataset = SentimentCorpus(train_per= 0.5, test_per= 0.5)\n",
    "    nb = MultinomialNaiveBayes()\n",
    "    \n",
    "    params = nb.train(dataset.train_X, dataset.train_y)\n",
    "    \n",
    "    predict_train = nb.test(dataset.train_X, params)\n",
    "    eval_train = nb.evaluate(predict_train, dataset.train_y)\n",
    "    \n",
    "    predict_test = nb.test(dataset.test_X, params)\n",
    "    eval_test = nb.evaluate(predict_test, dataset.test_y)\n",
    "    \n",
    "    print \"Accuracy on training set: %f, on test set: %f\" % (eval_train, eval_test)"
   ]
  },
  {
   "cell_type": "code",
   "execution_count": null,
   "metadata": {},
   "outputs": [],
   "source": []
  }
 ],
 "metadata": {
  "kernelspec": {
   "display_name": "Python 2",
   "language": "python",
   "name": "python2"
  },
  "language_info": {
   "codemirror_mode": {
    "name": "ipython",
    "version": 2
   },
   "file_extension": ".py",
   "mimetype": "text/x-python",
   "name": "python",
   "nbconvert_exporter": "python",
   "pygments_lexer": "ipython2",
   "version": "2.7.16"
  }
 },
 "nbformat": 4,
 "nbformat_minor": 2
}
