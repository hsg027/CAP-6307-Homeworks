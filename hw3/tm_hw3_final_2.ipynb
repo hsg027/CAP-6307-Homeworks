{
 "cells": [
  {
   "cell_type": "code",
   "execution_count": 166,
   "metadata": {},
   "outputs": [],
   "source": [
    "import rouge,nltk\n",
    "\n",
    "import os\n",
    "\n",
    "from time import process_time # to calculate the processing time"
   ]
  },
  {
   "cell_type": "code",
   "execution_count": 167,
   "metadata": {},
   "outputs": [
    {
     "name": "stderr",
     "output_type": "stream",
     "text": [
      "[nltk_data] Downloading package punkt to\n",
      "[nltk_data]     C:\\Users\\harsh\\AppData\\Roaming\\nltk_data...\n",
      "[nltk_data]   Package punkt is already up-to-date!\n"
     ]
    },
    {
     "data": {
      "text/plain": [
       "True"
      ]
     },
     "execution_count": 167,
     "metadata": {},
     "output_type": "execute_result"
    }
   ],
   "source": [
    "# download of nltk package for implementing py-rouge\n",
    "nltk.download('punkt')\n"
   ]
  },
  {
   "cell_type": "code",
   "execution_count": 168,
   "metadata": {},
   "outputs": [],
   "source": [
    "def prepare_results(p, r, f):\n",
    "    return '\\t{}:\\t{}: {:5.2f}\\t{}: {:5.2f}\\t{}: {:5.2f}'.format(metric, 'P', 100.0 * p, 'R', 100.0 * r, 'F1', 100.0 * f)\n",
    "# function for py-rouge where we set stemmng =true, apply_avg limit_length etc\n",
    "for aggregator in ['Avg']:\n",
    "    apply_avg = aggregator == 'Avg'\n",
    "    evaluator = rouge.Rouge(metrics=['rouge-n', 'rouge-l'],\n",
    "                           max_n=2,\n",
    "                           limit_length=True,\n",
    "                           length_limit=100,\n",
    "                           length_limit_type='words',\n",
    "                           apply_avg=apply_avg,\n",
    "                           alpha=0.5,\n",
    "                           weight_factor=1.2,\n",
    "                           stemming=True)"
   ]
  },
  {
   "cell_type": "code",
   "execution_count": 169,
   "metadata": {},
   "outputs": [
    {
     "name": "stdout",
     "output_type": "stream",
     "text": [
      "DPP:\n",
      "\trouge-1:\tP: 39.72\tR: 39.81\tF1: 39.76\n",
      "\trouge-2:\tP:  9.59\tR:  9.61\tF1:  9.60\n",
      "\trouge-l:\tP: 37.44\tR: 37.50\tF1: 37.47\n",
      "Total time taken for calculation is: 2.90625\n"
     ]
    }
   ],
   "source": [
    "#time at which the processing starts\n",
    "start_time = process_time()\n",
    "\n",
    "#assign paths of Human summaries data to the \"model_dir\" method defined in Rouge155 file. \n",
    "human='C:/Users/harsh/Desktop/ucf academics/Sem-3/6307- Text Mining/hw3/HW3 (2)/HW3/Human_Summaries/eval'\n",
    "\n",
    "#assign paths of System summaries data to the \"system_dir\" method defined in Rouge155 file. \n",
    "system='C:/Users/harsh/Desktop/ucf academics/Sem-3/6307- Text Mining/hw3/HW3 (2)/HW3/System_Summaries/DPP'\n",
    "\n",
    "# we load the system path summaries which are to be checked with the human summaries \n",
    "\n",
    "system_list=[]\n",
    "human_list = []\n",
    "for files in os.listdir(system):\n",
    "    with open(system +'/' + files, encoding = \"utf-8\", errors = 'ignore') as file:\n",
    "            system_list.append(file.read())\n",
    "            file.close()\n",
    "\n",
    "for files in os.listdir(human):\n",
    "    with open(human + '/' + files, encoding = \"utf-8\", errors = 'ignore') as file:\n",
    "                human_list.append(file.read())\n",
    "                file.close()\n",
    "                \n",
    "compare_list = [human_list[i:i+4] \n",
    "        for i in range(0,len(human_list),4)]\n",
    "\n",
    "print('DPP:')\n",
    "score = evaluator.get_scores(system_list, compare_list)\n",
    "for metric, res in sorted(score.items(), key=lambda x: x[0]):\n",
    "            print(prepare_results(res['p'], res['r'], res['f']))\n",
    "\n",
    "end_time = process_time()\n",
    "\n",
    "print(\"Total time taken for calculation is:\", end_time-start_time)"
   ]
  },
  {
   "cell_type": "code",
   "execution_count": 170,
   "metadata": {},
   "outputs": [
    {
     "name": "stdout",
     "output_type": "stream",
     "text": [
      "Centroid:\n",
      "\trouge-1:\tP: 35.93\tR: 36.40\tF1: 36.15\n",
      "\trouge-2:\tP:  7.85\tR:  7.97\tF1:  7.91\n",
      "\trouge-l:\tP: 37.55\tR: 37.96\tF1: 37.74\n",
      "Total time taken for calculation is: 2.1875\n"
     ]
    }
   ],
   "source": [
    "#time at which the processing starts\n",
    "start_time = process_time()\n",
    "\n",
    "#assign paths of Human summaries data to the \"model_dir\" method defined in Rouge155 file. \n",
    "human='C:/Users/harsh/Desktop/ucf academics/Sem-3/6307- Text Mining/hw3/HW3 (2)/HW3/Human_Summaries/eval'\n",
    "\n",
    "#assign paths of System summaries data to the \"system_dir\" method defined in Rouge155 file. \n",
    "system='C:/Users/harsh/Desktop/ucf academics/Sem-3/6307- Text Mining/hw3/HW3 (2)/HW3/System_Summaries/Centroid'\n",
    "\n",
    "# we load the system path summaries which are to be checked with the human summaries \n",
    "\n",
    "system_list=[]\n",
    "human_list=[]\n",
    "for files in os.listdir(system):\n",
    "    with open(system +'/' + files, encoding = \"utf-8\", errors = 'ignore') as file:\n",
    "            system_list.append(file.read())\n",
    "            file.close()\n",
    "            \n",
    "for files in os.listdir(human):\n",
    "    with open(human + '/' + files, encoding = \"utf-8\", errors = 'ignore') as file:\n",
    "            human_list.append(file.read())\n",
    "            file.close()\n",
    "                \n",
    "compare_list = [human_list[i:i+4] \n",
    "        for i in range(0,len(human_list),4)]\n",
    "\n",
    "print('Centroid:')\n",
    "score = evaluator.get_scores(system_list, compare_list)\n",
    "for metric, res in sorted(score.items(), key=lambda x: x[0]):\n",
    "            print(prepare_results(res['p'], res['r'], res['f']))\n",
    "\n",
    "end_time = process_time()\n",
    "\n",
    "print(\"Total time taken for calculation is:\", end_time-start_time)"
   ]
  },
  {
   "cell_type": "code",
   "execution_count": 172,
   "metadata": {},
   "outputs": [
    {
     "name": "stdout",
     "output_type": "stream",
     "text": [
      "ICSISumm:\n",
      "\trouge-1:\tP: 38.60\tR: 38.42\tF1: 38.50\n",
      "\trouge-2:\tP:  9.86\tR:  9.80\tF1:  9.83\n",
      "\trouge-l:\tP: 40.57\tR: 40.40\tF1: 40.48\n",
      "Total time taken for calculation is: 2.140625\n"
     ]
    }
   ],
   "source": [
    "#time at which the processing starts\n",
    "start_time = process_time()\n",
    "\n",
    "#assign paths of Human summaries data to the \"model_dir\" method defined in Rouge155 file. \n",
    "human='C:/Users/harsh/Desktop/ucf academics/Sem-3/6307- Text Mining/hw3/HW3 (2)/HW3/Human_Summaries/eval'\n",
    "\n",
    "#assign paths of System summaries data to the \"system_dir\" method defined in Rouge155 file. \n",
    "system='C:/Users/harsh/Desktop/ucf academics/Sem-3/6307- Text Mining/hw3/HW3 (2)/HW3/System_Summaries/ICSISumm'\n",
    "\n",
    "# we load the system path summaries which are to be checked with the human summaries \n",
    "\n",
    "system_list=[]\n",
    "human_list=[]\n",
    "for files in os.listdir(system):\n",
    "    with open(system +'/' + files, encoding = \"utf-8\", errors = 'ignore') as file:\n",
    "            system_list.append(file.read())\n",
    "            file.close()\n",
    "            \n",
    "for files in os.listdir(human):\n",
    "    with open(human + '/' + files, encoding = \"utf-8\", errors = 'ignore') as file:\n",
    "            human_list.append(file.read())\n",
    "            file.close()\n",
    "                \n",
    "compare_list = [human_list[i:i+4] \n",
    "        for i in range(0,len(human_list),4)]\n",
    "\n",
    "print('ICSISumm:')\n",
    "score = evaluator.get_scores(system_list, compare_list)\n",
    "for metric, res in sorted(score.items(), key=lambda x: x[0]):\n",
    "            print(prepare_results(res['p'], res['r'], res['f']))\n",
    "\n",
    "end_time = process_time()\n",
    "\n",
    "print(\"Total time taken for calculation is:\", end_time-start_time)"
   ]
  },
  {
   "cell_type": "code",
   "execution_count": 173,
   "metadata": {},
   "outputs": [
    {
     "name": "stdout",
     "output_type": "stream",
     "text": [
      "LexRank:\n",
      "\trouge-1:\tP: 35.91\tR: 35.96\tF1: 35.93\n",
      "\trouge-2:\tP:  7.46\tR:  7.48\tF1:  7.47\n",
      "\trouge-l:\tP: 37.97\tR: 38.02\tF1: 37.99\n",
      "Total time taken for calculation is: 2.1875\n"
     ]
    }
   ],
   "source": [
    "#time at which the processing starts\n",
    "start_time = process_time()\n",
    "\n",
    "#assign paths of Human summaries data to the \"model_dir\" method defined in Rouge155 file. \n",
    "human='C:/Users/harsh/Desktop/ucf academics/Sem-3/6307- Text Mining/hw3/HW3 (2)/HW3/Human_Summaries/eval'\n",
    "\n",
    "#assign paths of System summaries data to the \"system_dir\" method defined in Rouge155 file. \n",
    "system='C:/Users/harsh/Desktop/ucf academics/Sem-3/6307- Text Mining/hw3/HW3 (2)/HW3/System_Summaries/LexRank'\n",
    "\n",
    "# we load the system path summaries which are to be checked with the human summaries \n",
    "\n",
    "system_list=[]\n",
    "human_list=[]\n",
    "for files in os.listdir(system):\n",
    "    with open(system +'/' + files, encoding = \"utf-8\", errors = 'ignore') as file:\n",
    "            system_list.append(file.read())\n",
    "            file.close()\n",
    "            \n",
    "for files in os.listdir(human):\n",
    "    with open(human + '/' + files, encoding = \"utf-8\", errors = 'ignore') as file:\n",
    "            human_list.append(file.read())\n",
    "            file.close()\n",
    "                \n",
    "compare_list = [human_list[i:i+4] \n",
    "        for i in range(0,len(human_list),4)]\n",
    "\n",
    "print('LexRank:')\n",
    "score = evaluator.get_scores(system_list, compare_list)\n",
    "for metric, res in sorted(score.items(), key=lambda x: x[0]):\n",
    "            print(prepare_results(res['p'], res['r'], res['f']))\n",
    "\n",
    "end_time = process_time()\n",
    "\n",
    "print(\"Total time taken for calculation is:\", end_time-start_time)"
   ]
  },
  {
   "cell_type": "code",
   "execution_count": 174,
   "metadata": {},
   "outputs": [
    {
     "name": "stdout",
     "output_type": "stream",
     "text": [
      "Submodular:\n",
      "\trouge-1:\tP: 39.26\tR: 39.18\tF1: 39.22\n",
      "\trouge-2:\tP:  9.36\tR:  9.34\tF1:  9.35\n",
      "\trouge-l:\tP: 40.57\tR: 40.50\tF1: 40.53\n",
      "Total time taken for calculation is: 2.203125\n"
     ]
    }
   ],
   "source": [
    "#time at which the processing starts\n",
    "start_time = process_time()\n",
    "\n",
    "#assign paths of Human summaries data to the \"model_dir\" method defined in Rouge155 file. \n",
    "human='C:/Users/harsh/Desktop/ucf academics/Sem-3/6307- Text Mining/hw3/HW3 (2)/HW3/Human_Summaries/eval'\n",
    "\n",
    "#assign paths of System summaries data to the \"system_dir\" method defined in Rouge155 file. \n",
    "system='C:/Users/harsh/Desktop/ucf academics/Sem-3/6307- Text Mining/hw3/HW3 (2)/HW3/System_Summaries/Submodular'\n",
    "\n",
    "# we load the system path summaries which are to be checked with the human summaries \n",
    "\n",
    "system_list=[]\n",
    "human_list=[]\n",
    "for files in os.listdir(system):\n",
    "    with open(system +'/' + files, encoding = \"utf-8\", errors = 'ignore') as file:\n",
    "            system_list.append(file.read())\n",
    "            file.close()\n",
    "            \n",
    "for files in os.listdir(human):\n",
    "    with open(human + '/' + files, encoding = \"utf-8\", errors = 'ignore') as file:\n",
    "            human_list.append(file.read())\n",
    "            file.close()\n",
    "                \n",
    "compare_list = [human_list[i:i+4] \n",
    "        for i in range(0,len(human_list),4)]\n",
    "\n",
    "print('Submodular:')\n",
    "score = evaluator.get_scores(system_list, compare_list)\n",
    "for metric, res in sorted(score.items(), key=lambda x: x[0]):\n",
    "            print(prepare_results(res['p'], res['r'], res['f']))\n",
    "\n",
    "end_time = process_time()\n",
    "\n",
    "print(\"Total time taken for calculation is:\", end_time-start_time)"
   ]
  },
  {
   "cell_type": "code",
   "execution_count": null,
   "metadata": {},
   "outputs": [],
   "source": []
  }
 ],
 "metadata": {
  "kernelspec": {
   "display_name": "Python 3",
   "language": "python",
   "name": "python3"
  },
  "language_info": {
   "codemirror_mode": {
    "name": "ipython",
    "version": 3
   },
   "file_extension": ".py",
   "mimetype": "text/x-python",
   "name": "python",
   "nbconvert_exporter": "python",
   "pygments_lexer": "ipython3",
   "version": "3.7.9"
  }
 },
 "nbformat": 4,
 "nbformat_minor": 4
}
